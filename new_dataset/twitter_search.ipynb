{
 "cells": [
  {
   "cell_type": "code",
   "execution_count": 4,
   "metadata": {},
   "outputs": [],
   "source": [
    "from twython import Twython\n",
    "APP_KEY = 'ASjMzMTXZIG8oqevrZeTU7G05'\n",
    "APP_SECRET = 'EaVgcUQvNPCzFbZtNDhnvC4aIIY0yrVrFReHXVyCead9kyvDer'\n",
    "\n",
    "twitter = Twython(APP_KEY, APP_SECRET, oauth_version=2)\n",
    "ACCESS_TOKEN = twitter.obtain_access_token()\n",
    "twitter = Twython(APP_KEY, access_token=ACCESS_TOKEN)"
   ]
  },
  {
   "cell_type": "code",
   "execution_count": null,
   "metadata": {},
   "outputs": [],
   "source": [
    "for i in twitter.search(q=\"betty white I just got boosted today\", count=100)['statuses']:\n",
    "    print(i['text'])"
   ]
  },
  {
   "cell_type": "code",
   "execution_count": null,
   "metadata": {},
   "outputs": [],
   "source": [
    "twitter.search(q=\"betty white I just got boosted today\", count=100)['search_metadata']"
   ]
  },
  {
   "cell_type": "code",
   "execution_count": null,
   "metadata": {},
   "outputs": [],
   "source": [
    "for i in twitter.search(q=\"betty white I just got boosted today\", count=100, max_id=1478570252049002498)['statuses']:\n",
    "    print(i['text'])"
   ]
  }
 ],
 "metadata": {
  "interpreter": {
   "hash": "1320ba10e1308a88c6cd006b77eac5655047e5b944ffdd76ce4f56119e740193"
  },
  "kernelspec": {
   "display_name": "Python 3.8.5 64-bit ('env': venv)",
   "language": "python",
   "name": "python3"
  },
  "language_info": {
   "codemirror_mode": {
    "name": "ipython",
    "version": 3
   },
   "file_extension": ".py",
   "mimetype": "text/x-python",
   "name": "python",
   "nbconvert_exporter": "python",
   "pygments_lexer": "ipython3",
   "version": "3.8.5"
  },
  "orig_nbformat": 4
 },
 "nbformat": 4,
 "nbformat_minor": 2
}
