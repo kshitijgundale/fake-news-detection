{
 "cells": [
  {
   "cell_type": "code",
   "execution_count": 19,
   "metadata": {},
   "outputs": [
    {
     "name": "stderr",
     "output_type": "stream",
     "text": [
      "[nltk_data] Downloading package punkt to C:\\Users\\Kshitij\n",
      "[nltk_data]     Gundale\\AppData\\Roaming\\nltk_data...\n",
      "[nltk_data]   Package punkt is already up-to-date!\n"
     ]
    },
    {
     "data": {
      "text/plain": [
       "True"
      ]
     },
     "execution_count": 19,
     "metadata": {},
     "output_type": "execute_result"
    }
   ],
   "source": [
    "import json\n",
    "import pandas as pd\n",
    "import os\n",
    "from os import path\n",
    "from wordcloud import WordCloud, STOPWORDS\n",
    "import matplotlib.pyplot as plt\n",
    "import re\n",
    "import nltk\n",
    "nltk.download('punkt')"
   ]
  },
  {
   "cell_type": "code",
   "execution_count": 16,
   "metadata": {},
   "outputs": [],
   "source": [
    "def get_text(data_path, dataset, label):\n",
    "    all_text = []\n",
    "    for news in os.listdir(path.join(data_path, dataset, label)):\n",
    "        with open(path.join(data_path, dataset, label, news, f\"{news}_text.txt\"), encoding=\"utf-8\") as f:\n",
    "            text = f.read()\n",
    "            if text:\n",
    "                all_text.append(text)\n",
    "    return all_text\n",
    "\n",
    "def clean_text(s):\n",
    "    s = s.lower()\n",
    "    s = s.replace(\"\\n\", \" \")\n",
    "    s = re.sub('[^A-Za-z0-9 ]+', '', s)\n",
    "    return s\n",
    "\n",
    "def get_wordcloud(stopwords, dataset, label, data_path):\n",
    "\n",
    "    all_text = get_text(data_path, dataset, label)\n",
    "    all_text = [clean_text(s) for s in all_text]\n",
    "    all_text = \" \".join(all_text)\n",
    "\n",
    "    wordcloud = WordCloud(\n",
    "        width=1600, \n",
    "        stopwords=stopwords,\n",
    "        height=800,\n",
    "        max_font_size=200,\n",
    "        max_words=50,\n",
    "        collocations=False,\n",
    "        background_color='black'\n",
    "    ).generate(all_text)\n",
    "\n",
    "    return wordcloud\n"
   ]
  },
  {
   "cell_type": "code",
   "execution_count": 18,
   "metadata": {},
   "outputs": [],
   "source": [
    "data_path = \"../preprocessed_data\"\n",
    "datasets = ['gossipcop', 'politifact']\n",
    "labels = ['fake', 'real']"
   ]
  },
  {
   "cell_type": "code",
   "execution_count": null,
   "metadata": {},
   "outputs": [],
   "source": [
    "stopwords = set(STOPWORDS)\n",
    "\n",
    "for dataset in datasets:\n",
    "    for label in labels:\n",
    "        wordcloud = get_wordcloud(stopwords, dataset, label, data_path)\n",
    "        plt.figure(figsize=(40,30))\n",
    "        plt.imshow(wordcloud, interpolation=\"bilinear\")\n",
    "        plt.axis(\"off\")\n",
    "        plt.title(f\"{dataset.upper()}_{label.upper()}\")\n",
    "        plt.show()\n",
    "        plt.savefig(f\"../reports/wordclouds/{dataset}_{label}_wordcloud.png\")"
   ]
  },
  {
   "cell_type": "code",
   "execution_count": null,
   "metadata": {},
   "outputs": [],
   "source": [
    "stopwords = set(STOPWORDS)\n",
    "\n",
    "for dataset in datasets:\n",
    "    text = []\n",
    "    for label in labels:\n",
    "        text.append([clean_text(s) for s in get_text(data_path, dataset, label)])\n",
    "    \n",
    "    "
   ]
  }
 ],
 "metadata": {
  "interpreter": {
   "hash": "1320ba10e1308a88c6cd006b77eac5655047e5b944ffdd76ce4f56119e740193"
  },
  "kernelspec": {
   "display_name": "Python 3.8.5 64-bit ('env': venv)",
   "language": "python",
   "name": "python3"
  },
  "language_info": {
   "codemirror_mode": {
    "name": "ipython",
    "version": 3
   },
   "file_extension": ".py",
   "mimetype": "text/x-python",
   "name": "python",
   "nbconvert_exporter": "python",
   "pygments_lexer": "ipython3",
   "version": "3.8.5"
  },
  "orig_nbformat": 4
 },
 "nbformat": 4,
 "nbformat_minor": 2
}
